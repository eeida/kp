{
 "cells": [
  {
   "cell_type": "markdown",
   "metadata": {},
   "source": [
    "## NumPy"
   ]
  },
  {
   "cell_type": "code",
   "execution_count": 28,
   "metadata": {
    "collapsed": true
   },
   "outputs": [],
   "source": [
    "#zaimportuj odpowiedni pakiet do pracy z wektorami i macierzami\n",
    "import numpy as np"
   ]
  },
  {
   "cell_type": "code",
   "execution_count": 54,
   "metadata": {},
   "outputs": [
    {
     "name": "stdout",
     "output_type": "stream",
     "text": [
      "[  1   2  -3   6   7 -10  88  43 -98  17  39  45]\n"
     ]
    }
   ],
   "source": [
    "#wektor ar\n",
    "ar = np.array([1,2,-3,6,7,-10,88,43,-98,17,39,45])\n",
    "print(ar)"
   ]
  },
  {
   "cell_type": "code",
   "execution_count": 64,
   "metadata": {},
   "outputs": [
    {
     "name": "stdout",
     "output_type": "stream",
     "text": [
      "[  1   2  -3   6   7 -10  88  43 -98  17  39  45   4   5   9  10  23 -14\n",
      "  55  13]\n"
     ]
    }
   ],
   "source": [
    "#doklej do wektora ar wartości [4,5,9,10,23,-14,55,13]\n",
    "ar_new = np.append(ar, [4,5,9,10,23,-14,55,13])\n",
    "print(ar_new)"
   ]
  },
  {
   "cell_type": "code",
   "execution_count": 63,
   "metadata": {},
   "outputs": [
    {
     "data": {
      "text/plain": [
       "14"
      ]
     },
     "execution_count": 63,
     "metadata": {},
     "output_type": "execute_result"
    }
   ],
   "source": [
    "#znajdz index dla wartości 9 - użyj odpowiedniej funkcji\n",
    "ar_list = list(ar_new)\n",
    "ar_list.index(9)\n",
    "\n",
    "#mam wrażenie że zrobiłam to bardzo na sztywno, ale nie wiem jak inaczej, myślałam, ze indexowanie działa też na wektorach, a wychodzi na to, że nie"
   ]
  },
  {
   "cell_type": "code",
   "execution_count": 70,
   "metadata": {},
   "outputs": [
    {
     "name": "stdout",
     "output_type": "stream",
     "text": [
      "2\n",
      "5\n",
      "8\n",
      "17\n"
     ]
    }
   ],
   "source": [
    "#znajdź indeksy dla wartości mniejszych od zera - użyj odpowiedniej funkcji\n",
    "for x in ar_list:\n",
    "    if x < 0:\n",
    "        print(ar_list.index(x))\n",
    "        \n",
    "#no wiem, wiem..."
   ]
  },
  {
   "cell_type": "code",
   "execution_count": 73,
   "metadata": {},
   "outputs": [
    {
     "name": "stdout",
     "output_type": "stream",
     "text": [
      "[ -3 -10 -98 -14]\n"
     ]
    }
   ],
   "source": [
    "#wyświetl wartości mniejsze od zera\n",
    "ar_minus0 = ar_new[ar_new < 0]\n",
    "print(ar_minus0)"
   ]
  },
  {
   "cell_type": "code",
   "execution_count": 77,
   "metadata": {},
   "outputs": [
    {
     "name": "stdout",
     "output_type": "stream",
     "text": [
      "12.1\n"
     ]
    }
   ],
   "source": [
    "#policz średnią, zaokrąglij do jednego miejsca po przecinku\n",
    "ar_new_mean = np.mean(ar_new)\n",
    "print(round(ar_new_mean, 2))"
   ]
  },
  {
   "cell_type": "code",
   "execution_count": 79,
   "metadata": {},
   "outputs": [
    {
     "name": "stdout",
     "output_type": "stream",
     "text": [
      "<class 'numpy.ndarray'>\n"
     ]
    }
   ],
   "source": [
    "#stwórz zmienną ar_abs, wektor wartości bezwględnych z wektora ar\n",
    "ar_abs = ar_new[ar_new > 0]\n",
    "print(type(ar_abs))"
   ]
  },
  {
   "cell_type": "code",
   "execution_count": 80,
   "metadata": {},
   "outputs": [
    {
     "name": "stdout",
     "output_type": "stream",
     "text": [
      "[ 1.          1.25992105  1.81712059  1.91293118  4.44796018  3.50339806\n",
      "  2.57128159  3.39121144  3.5568933   1.58740105  1.70997595  2.08008382\n",
      "  2.15443469  2.84386698  3.80295246  2.35133469]\n"
     ]
    }
   ],
   "source": [
    "#stwórz zmienną ar_p, wektor pierwiastków trzeciego stopnia z wektora ar_abs\n",
    "ar_p = np.cbrt(ar_abs)\n",
    "print(ar_p)"
   ]
  },
  {
   "cell_type": "code",
   "execution_count": 82,
   "metadata": {},
   "outputs": [
    {
     "name": "stdout",
     "output_type": "stream",
     "text": [
      "[ 1.    1.26  1.82  1.91  4.45  3.5   2.57  3.39  3.56  1.59  1.71  2.08\n",
      "  2.15  2.84  3.8   2.35]\n"
     ]
    }
   ],
   "source": [
    "#zaokrąglij wektor ar_p do dwóch miejsc po przecinku\n",
    "print(np.round(ar_p, 2))"
   ]
  },
  {
   "cell_type": "code",
   "execution_count": 89,
   "metadata": {},
   "outputs": [
    {
     "name": "stdout",
     "output_type": "stream",
     "text": [
      "1598.4004\n"
     ]
    }
   ],
   "source": [
    "#zsumuj zaokrąglony wektor ar_p i podnieś go do kwadratu, \n",
    "#zmienną nazwij ar_sq, zmień typ tej zmiennej na liczbę całkowitą\n",
    "ar_sq = sum((np.round(ar_p, 2))) ** 2\n",
    "int(ar_sq)\n",
    "print(ar_sq)"
   ]
  },
  {
   "cell_type": "code",
   "execution_count": null,
   "metadata": {
    "collapsed": true
   },
   "outputs": [],
   "source": []
  }
 ],
 "metadata": {
  "kernelspec": {
   "display_name": "Python 3",
   "language": "python",
   "name": "python3"
  },
  "language_info": {
   "codemirror_mode": {
    "name": "ipython",
    "version": 3
   },
   "file_extension": ".py",
   "mimetype": "text/x-python",
   "name": "python",
   "nbconvert_exporter": "python",
   "pygments_lexer": "ipython3",
   "version": "3.6.3"
  }
 },
 "nbformat": 4,
 "nbformat_minor": 2
}
